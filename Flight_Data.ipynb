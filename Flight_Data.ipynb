{
 "cells": [
  {
   "cell_type": "code",
   "execution_count": 1,
   "id": "efae1e6b",
   "metadata": {},
   "outputs": [],
   "source": [
    "import pandas as pd \n",
    "import numpy as np\n",
    "import matplotlib.pyplot as plt\n",
    "import seaborn as sns\n",
    "%matplotlib inline"
   ]
  },
  {
   "cell_type": "markdown",
   "id": "1deb531e",
   "metadata": {},
   "source": [
    "# 1. Dataset Overview"
   ]
  },
  {
   "cell_type": "code",
   "execution_count": 2,
   "id": "b4274c0b",
   "metadata": {},
   "outputs": [
    {
     "data": {
      "text/html": [
       "<div>\n",
       "<style scoped>\n",
       "    .dataframe tbody tr th:only-of-type {\n",
       "        vertical-align: middle;\n",
       "    }\n",
       "\n",
       "    .dataframe tbody tr th {\n",
       "        vertical-align: top;\n",
       "    }\n",
       "\n",
       "    .dataframe thead th {\n",
       "        text-align: right;\n",
       "    }\n",
       "</style>\n",
       "<table border=\"1\" class=\"dataframe\">\n",
       "  <thead>\n",
       "    <tr style=\"text-align: right;\">\n",
       "      <th></th>\n",
       "      <th>id</th>\n",
       "      <th>year</th>\n",
       "      <th>month</th>\n",
       "      <th>day</th>\n",
       "      <th>dep_time</th>\n",
       "      <th>sched_dep_time</th>\n",
       "      <th>dep_delay</th>\n",
       "      <th>arr_time</th>\n",
       "      <th>sched_arr_time</th>\n",
       "      <th>arr_delay</th>\n",
       "      <th>...</th>\n",
       "      <th>flight</th>\n",
       "      <th>tailnum</th>\n",
       "      <th>origin</th>\n",
       "      <th>dest</th>\n",
       "      <th>air_time</th>\n",
       "      <th>distance</th>\n",
       "      <th>hour</th>\n",
       "      <th>minute</th>\n",
       "      <th>time_hour</th>\n",
       "      <th>name</th>\n",
       "    </tr>\n",
       "  </thead>\n",
       "  <tbody>\n",
       "    <tr>\n",
       "      <th>0</th>\n",
       "      <td>0</td>\n",
       "      <td>2013</td>\n",
       "      <td>1</td>\n",
       "      <td>1</td>\n",
       "      <td>517.0</td>\n",
       "      <td>515</td>\n",
       "      <td>2.0</td>\n",
       "      <td>830.0</td>\n",
       "      <td>819</td>\n",
       "      <td>11.0</td>\n",
       "      <td>...</td>\n",
       "      <td>1545</td>\n",
       "      <td>N14228</td>\n",
       "      <td>EWR</td>\n",
       "      <td>IAH</td>\n",
       "      <td>227.0</td>\n",
       "      <td>1400</td>\n",
       "      <td>5</td>\n",
       "      <td>15</td>\n",
       "      <td>2013-01-01 05:00:00</td>\n",
       "      <td>United Air Lines Inc.</td>\n",
       "    </tr>\n",
       "    <tr>\n",
       "      <th>1</th>\n",
       "      <td>1</td>\n",
       "      <td>2013</td>\n",
       "      <td>1</td>\n",
       "      <td>1</td>\n",
       "      <td>533.0</td>\n",
       "      <td>529</td>\n",
       "      <td>4.0</td>\n",
       "      <td>850.0</td>\n",
       "      <td>830</td>\n",
       "      <td>20.0</td>\n",
       "      <td>...</td>\n",
       "      <td>1714</td>\n",
       "      <td>N24211</td>\n",
       "      <td>LGA</td>\n",
       "      <td>IAH</td>\n",
       "      <td>227.0</td>\n",
       "      <td>1416</td>\n",
       "      <td>5</td>\n",
       "      <td>29</td>\n",
       "      <td>2013-01-01 05:00:00</td>\n",
       "      <td>United Air Lines Inc.</td>\n",
       "    </tr>\n",
       "    <tr>\n",
       "      <th>2</th>\n",
       "      <td>2</td>\n",
       "      <td>2013</td>\n",
       "      <td>1</td>\n",
       "      <td>1</td>\n",
       "      <td>542.0</td>\n",
       "      <td>540</td>\n",
       "      <td>2.0</td>\n",
       "      <td>923.0</td>\n",
       "      <td>850</td>\n",
       "      <td>33.0</td>\n",
       "      <td>...</td>\n",
       "      <td>1141</td>\n",
       "      <td>N619AA</td>\n",
       "      <td>JFK</td>\n",
       "      <td>MIA</td>\n",
       "      <td>160.0</td>\n",
       "      <td>1089</td>\n",
       "      <td>5</td>\n",
       "      <td>40</td>\n",
       "      <td>2013-01-01 05:00:00</td>\n",
       "      <td>American Airlines Inc.</td>\n",
       "    </tr>\n",
       "    <tr>\n",
       "      <th>3</th>\n",
       "      <td>3</td>\n",
       "      <td>2013</td>\n",
       "      <td>1</td>\n",
       "      <td>1</td>\n",
       "      <td>544.0</td>\n",
       "      <td>545</td>\n",
       "      <td>-1.0</td>\n",
       "      <td>1004.0</td>\n",
       "      <td>1022</td>\n",
       "      <td>-18.0</td>\n",
       "      <td>...</td>\n",
       "      <td>725</td>\n",
       "      <td>N804JB</td>\n",
       "      <td>JFK</td>\n",
       "      <td>BQN</td>\n",
       "      <td>183.0</td>\n",
       "      <td>1576</td>\n",
       "      <td>5</td>\n",
       "      <td>45</td>\n",
       "      <td>2013-01-01 05:00:00</td>\n",
       "      <td>JetBlue Airways</td>\n",
       "    </tr>\n",
       "    <tr>\n",
       "      <th>4</th>\n",
       "      <td>4</td>\n",
       "      <td>2013</td>\n",
       "      <td>1</td>\n",
       "      <td>1</td>\n",
       "      <td>554.0</td>\n",
       "      <td>600</td>\n",
       "      <td>-6.0</td>\n",
       "      <td>812.0</td>\n",
       "      <td>837</td>\n",
       "      <td>-25.0</td>\n",
       "      <td>...</td>\n",
       "      <td>461</td>\n",
       "      <td>N668DN</td>\n",
       "      <td>LGA</td>\n",
       "      <td>ATL</td>\n",
       "      <td>116.0</td>\n",
       "      <td>762</td>\n",
       "      <td>6</td>\n",
       "      <td>0</td>\n",
       "      <td>2013-01-01 06:00:00</td>\n",
       "      <td>Delta Air Lines Inc.</td>\n",
       "    </tr>\n",
       "  </tbody>\n",
       "</table>\n",
       "<p>5 rows × 21 columns</p>\n",
       "</div>"
      ],
      "text/plain": [
       "   id  year  month  day  dep_time  sched_dep_time  dep_delay  arr_time  \\\n",
       "0   0  2013      1    1     517.0             515        2.0     830.0   \n",
       "1   1  2013      1    1     533.0             529        4.0     850.0   \n",
       "2   2  2013      1    1     542.0             540        2.0     923.0   \n",
       "3   3  2013      1    1     544.0             545       -1.0    1004.0   \n",
       "4   4  2013      1    1     554.0             600       -6.0     812.0   \n",
       "\n",
       "   sched_arr_time  arr_delay  ... flight  tailnum origin dest air_time  \\\n",
       "0             819       11.0  ...   1545   N14228    EWR  IAH    227.0   \n",
       "1             830       20.0  ...   1714   N24211    LGA  IAH    227.0   \n",
       "2             850       33.0  ...   1141   N619AA    JFK  MIA    160.0   \n",
       "3            1022      -18.0  ...    725   N804JB    JFK  BQN    183.0   \n",
       "4             837      -25.0  ...    461   N668DN    LGA  ATL    116.0   \n",
       "\n",
       "   distance  hour  minute            time_hour                    name  \n",
       "0      1400     5      15  2013-01-01 05:00:00   United Air Lines Inc.  \n",
       "1      1416     5      29  2013-01-01 05:00:00   United Air Lines Inc.  \n",
       "2      1089     5      40  2013-01-01 05:00:00  American Airlines Inc.  \n",
       "3      1576     5      45  2013-01-01 05:00:00         JetBlue Airways  \n",
       "4       762     6       0  2013-01-01 06:00:00    Delta Air Lines Inc.  \n",
       "\n",
       "[5 rows x 21 columns]"
      ]
     },
     "execution_count": 2,
     "metadata": {},
     "output_type": "execute_result"
    }
   ],
   "source": [
    "df = pd.read_csv(\"flights.csv\")\n",
    "df.head()"
   ]
  },
  {
   "cell_type": "code",
   "execution_count": 3,
   "id": "1fbb4cd4",
   "metadata": {
    "scrolled": true
   },
   "outputs": [
    {
     "name": "stdout",
     "output_type": "stream",
     "text": [
      "<class 'pandas.core.frame.DataFrame'>\n",
      "RangeIndex: 336776 entries, 0 to 336775\n",
      "Data columns (total 21 columns):\n",
      " #   Column          Non-Null Count   Dtype  \n",
      "---  ------          --------------   -----  \n",
      " 0   id              336776 non-null  int64  \n",
      " 1   year            336776 non-null  int64  \n",
      " 2   month           336776 non-null  int64  \n",
      " 3   day             336776 non-null  int64  \n",
      " 4   dep_time        328521 non-null  float64\n",
      " 5   sched_dep_time  336776 non-null  int64  \n",
      " 6   dep_delay       328521 non-null  float64\n",
      " 7   arr_time        328063 non-null  float64\n",
      " 8   sched_arr_time  336776 non-null  int64  \n",
      " 9   arr_delay       327346 non-null  float64\n",
      " 10  carrier         336776 non-null  object \n",
      " 11  flight          336776 non-null  int64  \n",
      " 12  tailnum         334264 non-null  object \n",
      " 13  origin          336776 non-null  object \n",
      " 14  dest            336776 non-null  object \n",
      " 15  air_time        327346 non-null  float64\n",
      " 16  distance        336776 non-null  int64  \n",
      " 17  hour            336776 non-null  int64  \n",
      " 18  minute          336776 non-null  int64  \n",
      " 19  time_hour       336776 non-null  object \n",
      " 20  name            336776 non-null  object \n",
      "dtypes: float64(5), int64(10), object(6)\n",
      "memory usage: 54.0+ MB\n"
     ]
    }
   ],
   "source": [
    "df.info()"
   ]
  },
  {
   "cell_type": "code",
   "execution_count": 4,
   "id": "0ccf340d",
   "metadata": {},
   "outputs": [
    {
     "data": {
      "text/plain": [
       "id                   0\n",
       "year                 0\n",
       "month                0\n",
       "day                  0\n",
       "dep_time          8255\n",
       "sched_dep_time       0\n",
       "dep_delay         8255\n",
       "arr_time          8713\n",
       "sched_arr_time       0\n",
       "arr_delay         9430\n",
       "carrier              0\n",
       "flight               0\n",
       "tailnum           2512\n",
       "origin               0\n",
       "dest                 0\n",
       "air_time          9430\n",
       "distance             0\n",
       "hour                 0\n",
       "minute               0\n",
       "time_hour            0\n",
       "name                 0\n",
       "dtype: int64"
      ]
     },
     "execution_count": 4,
     "metadata": {},
     "output_type": "execute_result"
    }
   ],
   "source": [
    "df.isnull().sum()"
   ]
  },
  {
   "cell_type": "code",
   "execution_count": 5,
   "id": "93c68c75",
   "metadata": {},
   "outputs": [],
   "source": [
    "#Converting 'id' and 'flight' to object data type\n",
    "df['id'] = df['id'].astype('string')\n",
    "df['flight'] = df['flight'].astype('string')"
   ]
  },
  {
   "cell_type": "code",
   "execution_count": 6,
   "id": "8d7ae521",
   "metadata": {},
   "outputs": [
    {
     "data": {
      "text/html": [
       "<div>\n",
       "<style scoped>\n",
       "    .dataframe tbody tr th:only-of-type {\n",
       "        vertical-align: middle;\n",
       "    }\n",
       "\n",
       "    .dataframe tbody tr th {\n",
       "        vertical-align: top;\n",
       "    }\n",
       "\n",
       "    .dataframe thead th {\n",
       "        text-align: right;\n",
       "    }\n",
       "</style>\n",
       "<table border=\"1\" class=\"dataframe\">\n",
       "  <thead>\n",
       "    <tr style=\"text-align: right;\">\n",
       "      <th></th>\n",
       "      <th>year</th>\n",
       "      <th>month</th>\n",
       "      <th>day</th>\n",
       "      <th>dep_time</th>\n",
       "      <th>sched_dep_time</th>\n",
       "      <th>dep_delay</th>\n",
       "      <th>arr_time</th>\n",
       "      <th>sched_arr_time</th>\n",
       "      <th>arr_delay</th>\n",
       "      <th>air_time</th>\n",
       "      <th>distance</th>\n",
       "      <th>hour</th>\n",
       "      <th>minute</th>\n",
       "    </tr>\n",
       "  </thead>\n",
       "  <tbody>\n",
       "    <tr>\n",
       "      <th>count</th>\n",
       "      <td>336776.0</td>\n",
       "      <td>336776.000000</td>\n",
       "      <td>336776.000000</td>\n",
       "      <td>328521.000000</td>\n",
       "      <td>336776.000000</td>\n",
       "      <td>328521.000000</td>\n",
       "      <td>328063.000000</td>\n",
       "      <td>336776.000000</td>\n",
       "      <td>327346.000000</td>\n",
       "      <td>327346.000000</td>\n",
       "      <td>336776.000000</td>\n",
       "      <td>336776.000000</td>\n",
       "      <td>336776.000000</td>\n",
       "    </tr>\n",
       "    <tr>\n",
       "      <th>mean</th>\n",
       "      <td>2013.0</td>\n",
       "      <td>6.548510</td>\n",
       "      <td>15.710787</td>\n",
       "      <td>1349.109947</td>\n",
       "      <td>1344.254840</td>\n",
       "      <td>12.639070</td>\n",
       "      <td>1502.054999</td>\n",
       "      <td>1536.380220</td>\n",
       "      <td>6.895377</td>\n",
       "      <td>150.686460</td>\n",
       "      <td>1039.912604</td>\n",
       "      <td>13.180247</td>\n",
       "      <td>26.230100</td>\n",
       "    </tr>\n",
       "    <tr>\n",
       "      <th>std</th>\n",
       "      <td>0.0</td>\n",
       "      <td>3.414457</td>\n",
       "      <td>8.768607</td>\n",
       "      <td>488.281791</td>\n",
       "      <td>467.335756</td>\n",
       "      <td>40.210061</td>\n",
       "      <td>533.264132</td>\n",
       "      <td>497.457142</td>\n",
       "      <td>44.633292</td>\n",
       "      <td>93.688305</td>\n",
       "      <td>733.233033</td>\n",
       "      <td>4.661316</td>\n",
       "      <td>19.300846</td>\n",
       "    </tr>\n",
       "    <tr>\n",
       "      <th>min</th>\n",
       "      <td>2013.0</td>\n",
       "      <td>1.000000</td>\n",
       "      <td>1.000000</td>\n",
       "      <td>1.000000</td>\n",
       "      <td>106.000000</td>\n",
       "      <td>-43.000000</td>\n",
       "      <td>1.000000</td>\n",
       "      <td>1.000000</td>\n",
       "      <td>-86.000000</td>\n",
       "      <td>20.000000</td>\n",
       "      <td>17.000000</td>\n",
       "      <td>1.000000</td>\n",
       "      <td>0.000000</td>\n",
       "    </tr>\n",
       "    <tr>\n",
       "      <th>25%</th>\n",
       "      <td>2013.0</td>\n",
       "      <td>4.000000</td>\n",
       "      <td>8.000000</td>\n",
       "      <td>907.000000</td>\n",
       "      <td>906.000000</td>\n",
       "      <td>-5.000000</td>\n",
       "      <td>1104.000000</td>\n",
       "      <td>1124.000000</td>\n",
       "      <td>-17.000000</td>\n",
       "      <td>82.000000</td>\n",
       "      <td>502.000000</td>\n",
       "      <td>9.000000</td>\n",
       "      <td>8.000000</td>\n",
       "    </tr>\n",
       "    <tr>\n",
       "      <th>50%</th>\n",
       "      <td>2013.0</td>\n",
       "      <td>7.000000</td>\n",
       "      <td>16.000000</td>\n",
       "      <td>1401.000000</td>\n",
       "      <td>1359.000000</td>\n",
       "      <td>-2.000000</td>\n",
       "      <td>1535.000000</td>\n",
       "      <td>1556.000000</td>\n",
       "      <td>-5.000000</td>\n",
       "      <td>129.000000</td>\n",
       "      <td>872.000000</td>\n",
       "      <td>13.000000</td>\n",
       "      <td>29.000000</td>\n",
       "    </tr>\n",
       "    <tr>\n",
       "      <th>75%</th>\n",
       "      <td>2013.0</td>\n",
       "      <td>10.000000</td>\n",
       "      <td>23.000000</td>\n",
       "      <td>1744.000000</td>\n",
       "      <td>1729.000000</td>\n",
       "      <td>11.000000</td>\n",
       "      <td>1940.000000</td>\n",
       "      <td>1945.000000</td>\n",
       "      <td>14.000000</td>\n",
       "      <td>192.000000</td>\n",
       "      <td>1389.000000</td>\n",
       "      <td>17.000000</td>\n",
       "      <td>44.000000</td>\n",
       "    </tr>\n",
       "    <tr>\n",
       "      <th>max</th>\n",
       "      <td>2013.0</td>\n",
       "      <td>12.000000</td>\n",
       "      <td>31.000000</td>\n",
       "      <td>2400.000000</td>\n",
       "      <td>2359.000000</td>\n",
       "      <td>1301.000000</td>\n",
       "      <td>2400.000000</td>\n",
       "      <td>2359.000000</td>\n",
       "      <td>1272.000000</td>\n",
       "      <td>695.000000</td>\n",
       "      <td>4983.000000</td>\n",
       "      <td>23.000000</td>\n",
       "      <td>59.000000</td>\n",
       "    </tr>\n",
       "  </tbody>\n",
       "</table>\n",
       "</div>"
      ],
      "text/plain": [
       "           year          month            day       dep_time  sched_dep_time  \\\n",
       "count  336776.0  336776.000000  336776.000000  328521.000000   336776.000000   \n",
       "mean     2013.0       6.548510      15.710787    1349.109947     1344.254840   \n",
       "std         0.0       3.414457       8.768607     488.281791      467.335756   \n",
       "min      2013.0       1.000000       1.000000       1.000000      106.000000   \n",
       "25%      2013.0       4.000000       8.000000     907.000000      906.000000   \n",
       "50%      2013.0       7.000000      16.000000    1401.000000     1359.000000   \n",
       "75%      2013.0      10.000000      23.000000    1744.000000     1729.000000   \n",
       "max      2013.0      12.000000      31.000000    2400.000000     2359.000000   \n",
       "\n",
       "           dep_delay       arr_time  sched_arr_time      arr_delay  \\\n",
       "count  328521.000000  328063.000000   336776.000000  327346.000000   \n",
       "mean       12.639070    1502.054999     1536.380220       6.895377   \n",
       "std        40.210061     533.264132      497.457142      44.633292   \n",
       "min       -43.000000       1.000000        1.000000     -86.000000   \n",
       "25%        -5.000000    1104.000000     1124.000000     -17.000000   \n",
       "50%        -2.000000    1535.000000     1556.000000      -5.000000   \n",
       "75%        11.000000    1940.000000     1945.000000      14.000000   \n",
       "max      1301.000000    2400.000000     2359.000000    1272.000000   \n",
       "\n",
       "            air_time       distance           hour         minute  \n",
       "count  327346.000000  336776.000000  336776.000000  336776.000000  \n",
       "mean      150.686460    1039.912604      13.180247      26.230100  \n",
       "std        93.688305     733.233033       4.661316      19.300846  \n",
       "min        20.000000      17.000000       1.000000       0.000000  \n",
       "25%        82.000000     502.000000       9.000000       8.000000  \n",
       "50%       129.000000     872.000000      13.000000      29.000000  \n",
       "75%       192.000000    1389.000000      17.000000      44.000000  \n",
       "max       695.000000    4983.000000      23.000000      59.000000  "
      ]
     },
     "execution_count": 6,
     "metadata": {},
     "output_type": "execute_result"
    }
   ],
   "source": [
    "df.describe()"
   ]
  },
  {
   "cell_type": "code",
   "execution_count": 7,
   "id": "ece30c83",
   "metadata": {},
   "outputs": [
    {
     "data": {
      "text/html": [
       "<div>\n",
       "<style scoped>\n",
       "    .dataframe tbody tr th:only-of-type {\n",
       "        vertical-align: middle;\n",
       "    }\n",
       "\n",
       "    .dataframe tbody tr th {\n",
       "        vertical-align: top;\n",
       "    }\n",
       "\n",
       "    .dataframe thead th {\n",
       "        text-align: right;\n",
       "    }\n",
       "</style>\n",
       "<table border=\"1\" class=\"dataframe\">\n",
       "  <thead>\n",
       "    <tr style=\"text-align: right;\">\n",
       "      <th></th>\n",
       "      <th>carrier</th>\n",
       "      <th>tailnum</th>\n",
       "      <th>origin</th>\n",
       "      <th>dest</th>\n",
       "      <th>time_hour</th>\n",
       "      <th>name</th>\n",
       "    </tr>\n",
       "  </thead>\n",
       "  <tbody>\n",
       "    <tr>\n",
       "      <th>count</th>\n",
       "      <td>336776</td>\n",
       "      <td>334264</td>\n",
       "      <td>336776</td>\n",
       "      <td>336776</td>\n",
       "      <td>336776</td>\n",
       "      <td>336776</td>\n",
       "    </tr>\n",
       "    <tr>\n",
       "      <th>unique</th>\n",
       "      <td>16</td>\n",
       "      <td>4043</td>\n",
       "      <td>3</td>\n",
       "      <td>105</td>\n",
       "      <td>6936</td>\n",
       "      <td>16</td>\n",
       "    </tr>\n",
       "    <tr>\n",
       "      <th>top</th>\n",
       "      <td>UA</td>\n",
       "      <td>N725MQ</td>\n",
       "      <td>EWR</td>\n",
       "      <td>ORD</td>\n",
       "      <td>2013-09-13 08:00:00</td>\n",
       "      <td>United Air Lines Inc.</td>\n",
       "    </tr>\n",
       "    <tr>\n",
       "      <th>freq</th>\n",
       "      <td>58665</td>\n",
       "      <td>575</td>\n",
       "      <td>120835</td>\n",
       "      <td>17283</td>\n",
       "      <td>94</td>\n",
       "      <td>58665</td>\n",
       "    </tr>\n",
       "  </tbody>\n",
       "</table>\n",
       "</div>"
      ],
      "text/plain": [
       "       carrier tailnum  origin    dest            time_hour  \\\n",
       "count   336776  334264  336776  336776               336776   \n",
       "unique      16    4043       3     105                 6936   \n",
       "top         UA  N725MQ     EWR     ORD  2013-09-13 08:00:00   \n",
       "freq     58665     575  120835   17283                   94   \n",
       "\n",
       "                         name  \n",
       "count                  336776  \n",
       "unique                     16  \n",
       "top     United Air Lines Inc.  \n",
       "freq                    58665  "
      ]
     },
     "execution_count": 7,
     "metadata": {},
     "output_type": "execute_result"
    }
   ],
   "source": [
    "df.describe(include='object')"
   ]
  },
  {
   "cell_type": "markdown",
   "id": "5558d5b4",
   "metadata": {},
   "source": [
    "# 2. EDA"
   ]
  },
  {
   "cell_type": "markdown",
   "id": "58c9e366",
   "metadata": {},
   "source": [
    "* For __numerical__ data, we can use a histogram to visualize the data distribution. \n",
    "* For __categorical__ data, we can use a bar plot to visualize the frequency of each category."
   ]
  },
  {
   "cell_type": "code",
   "execution_count": 8,
   "id": "20955a01",
   "metadata": {
    "scrolled": true
   },
   "outputs": [],
   "source": [
    "# Set color for the plots\n",
    "color = '#8502d1'\n",
    "\n",
    "# Define function to plot histograms\n",
    "def plot_hist(column, bins, title, xlabel, fontsize=8, rotation=0):\n",
    "    plt.figure(figsize=(15,5))\n",
    "    counts, bins, patches = plt.hist(column, bins=bins, color=color, edgecolor='white')\n",
    "    plt.title(title, fontsize=15)\n",
    "    plt.xlabel(xlabel, fontsize=12)\n",
    "    plt.ylabel('Frequency', fontsize=12)\n",
    "\n",
    "    # Add text annotation for frequencies\n",
    "    bin_centers = 0.5 * (bins[:-1] + bins[1:])\n",
    "    for count, x in zip(counts, bin_centers):\n",
    "        if count > 0:\n",
    "            plt.text(x, count, str(int(count)), fontsize=fontsize, ha='center', va='bottom', rotation=rotation)\n",
    "    plt.show()\n",
    "    \n",
    "# Define function to plot bar plots\n",
    "def plot_bar(column, title, xlabel, fontsize=8, rotation=0):\n",
    "    plt.figure(figsize=(15,5))\n",
    "    counts = column.value_counts()\n",
    "    counts.plot(kind='bar', color=color, edgecolor='white')\n",
    "    plt.title(title, fontsize=15)\n",
    "    plt.xlabel(xlabel, fontsize=12)\n",
    "    plt.ylabel('Frequency', fontsize=12)\n",
    "    \n",
    "    # Add text annotation for frequencies with rotation and larger font size\n",
    "    for i, v in enumerate(counts):\n",
    "        plt.text(i, v, str(v), fontsize=fontsize, ha='center', va='bottom', rotation=rotation)\n",
    "    plt.show()"
   ]
  },
  {
   "cell_type": "code",
   "execution_count": 9,
   "id": "166a8990",
   "metadata": {},
   "outputs": [
    {
     "data": {
      "image/png": "[encoded data removed]",
      "text/plain": [
       "<Figure size 1080x360 with 1 Axes>"
      ]
     },
     "metadata": {
      "needs_background": "light"
     },
     "output_type": "display_data"
    }
   ],
   "source": [
    "#Plot year\n",
    "plot_bar(df['year'], 'Year', 'Year of Flight')"
   ]
  },
  {
   "cell_type": "code",
   "execution_count": 10,
   "id": "6943abe2",
   "metadata": {
    "scrolled": true
   },
   "outputs": [
    {
     "data": {
      "image/png": "[encoded data removed]",
      "text/plain": [
       "<Figure size 1080x360 with 1 Axes>"
      ]
     },
     "metadata": {
      "needs_background": "light"
     },
     "output_type": "display_data"
    }
   ],
   "source": [
    "plot_hist(df['day'], xlabel='Day of flight', bins=31, title='Day', fontsize=7, rotation=45) #Plot for day col"
   ]
  },
  {
   "cell_type": "markdown",
   "id": "1ce2ff8e",
   "metadata": {},
   "source": [
    "### Observation:\n",
    "The graphs shows that there was even distribution of flights throughout the days of the month"
   ]
  },
  {
   "cell_type": "code",
   "execution_count": 11,
   "id": "d095dede",
   "metadata": {
    "scrolled": false
   },
   "outputs": [
    {
     "data": {
      "image/png": "[encoded data removed]",
      "text/plain": [
       "<Figure size 1080x360 with 1 Axes>"
      ]
     },
     "metadata": {
      "needs_background": "light"
     },
     "output_type": "display_data"
    }
   ],
   "source": [
    "#Plot histogram for month col\n",
    "plot_hist(df['month'], xlabel='Month of flight', bins=12, title='Month')"
   ]
  },
  {
   "cell_type": "markdown",
   "id": "2160be89",
   "metadata": {},
   "source": [
    "### Observation:\n",
    "The histogram shows that distribution of flights across different month is uniform and that there is slight decrease in __February__."
   ]
  },
  {
   "cell_type": "code",
   "execution_count": 12,
   "id": "d8f6124c",
   "metadata": {},
   "outputs": [
    {
     "data": {
      "image/png": "[encoded data removed]",
      "text/plain": [
       "<Figure size 1080x360 with 1 Axes>"
      ]
     },
     "metadata": {
      "needs_background": "light"
     },
     "output_type": "display_data"
    }
   ],
   "source": [
    "#plot for dept_time\n",
    "plot_hist(df['dep_time'].dropna(), bins=24, title='Departure Time', xlabel=\"Departure Time\")"
   ]
  },
  {
   "cell_type": "markdown",
   "id": "0d828412",
   "metadata": {},
   "source": [
    "### Observation:\n",
    "The histograph shows that there were fewer flights between 23.00 hrs to 4.00 hrs"
   ]
  },
  {
   "cell_type": "code",
   "execution_count": 13,
   "id": "c0447315",
   "metadata": {},
   "outputs": [
    {
     "data": {
      "image/png": "[encoded data removed]",
      "text/plain": [
       "<Figure size 1080x360 with 1 Axes>"
      ]
     },
     "metadata": {
      "needs_background": "light"
     },
     "output_type": "display_data"
    }
   ],
   "source": [
    "#Plot histogram for sched_dep_time       \n",
    "plot_hist(df['sched_dep_time'], bins=24, xlabel='Schedule Departure Time in 24hrs', title='Scheduled Departure Time')"
   ]
  },
  {
   "cell_type": "code",
   "execution_count": 14,
   "id": "8bfdae8a",
   "metadata": {},
   "outputs": [
    {
     "data": {
      "image/png": "[encoded data removed]",
      "text/plain": [
       "<Figure size 1080x360 with 1 Axes>"
      ]
     },
     "metadata": {
      "needs_background": "light"
     },
     "output_type": "display_data"
    }
   ],
   "source": [
    "#Plot histogram for dep_delay col\n",
    "plot_hist(df['dep_delay'].dropna(), bins=30, title='Departure Delay', xlabel='Departure Delay (minutes)', fontsize=7)"
   ]
  },
  {
   "cell_type": "markdown",
   "id": "6ce2df13",
   "metadata": {},
   "source": [
    "### Observation:\n",
    "The delay in flight departure, calculated as the difference (in minutes) between the actual and scheduled departure times. \n",
    "Positive values indicate a delay, while negative values indicate an early departure."
   ]
  },
  {
   "cell_type": "code",
   "execution_count": 15,
   "id": "ddaa3048",
   "metadata": {},
   "outputs": [
    {
     "data": {
      "image/png": "[encoded data removed]",
      "text/plain": [
       "<Figure size 1080x360 with 1 Axes>"
      ]
     },
     "metadata": {
      "needs_background": "light"
     },
     "output_type": "display_data"
    }
   ],
   "source": [
    "#Plot histogram for arival_delay\n",
    "plot_hist(df['arr_delay'].dropna(), bins=30, title='Arrival delay', xlabel='Arrival delay in (min)', fontsize=7)"
   ]
  },
  {
   "cell_type": "markdown",
   "id": "5030cda5",
   "metadata": {},
   "source": [
    "### Observation:\n",
    "The delay in flight arrival, calculated as the difference (in minutes) between the actual and scheduled arrival times. \n",
    "Positive values indicate a delay, while negative values indicate an early arrival."
   ]
  },
  {
   "cell_type": "code",
   "execution_count": 16,
   "id": "f54a5fe6",
   "metadata": {},
   "outputs": [
    {
     "data": {
      "image/png": "[encoded data removed]",
      "text/plain": [
       "<Figure size 1080x360 with 1 Axes>"
      ]
     },
     "metadata": {
      "needs_background": "light"
     },
     "output_type": "display_data"
    }
   ],
   "source": [
    "#Plot barplot for 'carrier' col\n",
    "plot_bar(df['carrier'], 'Carrier', 'Airline Carrier Code')"
   ]
  },
  {
   "cell_type": "markdown",
   "id": "52e719f7",
   "metadata": {},
   "source": [
    "### Observation:\n",
    "From the above bar graph we can see that airline carrier __UA__, __B6__, __EV__, __DL__ operate the most flights in the datset"
   ]
  },
  {
   "cell_type": "code",
   "execution_count": 17,
   "id": "0ff8b8e7",
   "metadata": {},
   "outputs": [
    {
     "data": {
      "image/png": "[encoded data removed]",
      "text/plain": [
       "<Figure size 1080x360 with 1 Axes>"
      ]
     },
     "metadata": {
      "needs_background": "light"
     },
     "output_type": "display_data"
    }
   ],
   "source": [
    "#Plot for origin\n",
    "plot_bar(df['origin'], 'Origin', 'Departure Airport Code')"
   ]
  },
  {
   "cell_type": "markdown",
   "id": "c9800d4d",
   "metadata": {},
   "source": [
    "### Observation:\n",
    "The above bar plot illustrates that most flight depart from the __EWR__ airport"
   ]
  },
  {
   "cell_type": "code",
   "execution_count": 18,
   "id": "8cadf855",
   "metadata": {},
   "outputs": [
    {
     "data": {
      "image/png": "[encoded data removed]",
      "text/plain": [
       "<Figure size 1080x576 with 1 Axes>"
      ]
     },
     "metadata": {
      "needs_background": "light"
     },
     "output_type": "display_data"
    }
   ],
   "source": [
    "#Plot barplot for 'dist'\n",
    "plt.figure(figsize=(15, 8))\n",
    "df['dest'].value_counts().plot(kind='bar', color=color)\n",
    "plt.title('Destination', fontsize=15)\n",
    "plt.xlabel('Arrival Airport Code', fontsize=10)\n",
    "plt.ylabel('Frequency', fontsize=10)\n",
    "plt.xticks(fontsize=6)\n",
    "plt.show()"
   ]
  },
  {
   "cell_type": "markdown",
   "id": "79998334",
   "metadata": {},
   "source": [
    "### Observation:\n",
    "The bar plot illustrates that most common destination airports are __ORD__, __ALT__, __LAX__"
   ]
  },
  {
   "cell_type": "code",
   "execution_count": 19,
   "id": "f7631b60",
   "metadata": {},
   "outputs": [
    {
     "data": {
      "image/png": "[encoded data removed]",
      "text/plain": [
       "<Figure size 1080x360 with 1 Axes>"
      ]
     },
     "metadata": {
      "needs_background": "light"
     },
     "output_type": "display_data"
    }
   ],
   "source": [
    "#Plot barplot for 'name' col\n",
    "plot_bar(df['name'], 'Name', 'Airline Carrier Name')"
   ]
  },
  {
   "cell_type": "markdown",
   "id": "e72d0143",
   "metadata": {},
   "source": [
    "### Observation:\n",
    "The barplot shows that airline __United Airline__, __Jetblue Airline__ and __Expressjet Airlines__ has more flights in the datset"
   ]
  },
  {
   "cell_type": "markdown",
   "id": "efbd65e3",
   "metadata": {},
   "source": [
    "#  Data Preprocessing\n",
    "What is Data Preprocessing?? <br>\n",
    "Ans - Data Preprocessing is the crusial step in machine learning project, that involves cleaning and transforming raw data into a format that can be understood by machine learning algorithm "
   ]
  },
  {
   "cell_type": "code",
   "execution_count": 20,
   "id": "2270a567",
   "metadata": {},
   "outputs": [],
   "source": [
    "df.drop(['id', 'year', 'flight', 'tailnum', 'time_hour', 'minute', 'hour', 'carrier'], axis=1, inplace=True)"
   ]
  },
  {
   "cell_type": "code",
   "execution_count": 21,
   "id": "290dc55d",
   "metadata": {},
   "outputs": [
    {
     "data": {
      "text/plain": [
       "Index(['month', 'day', 'dep_time', 'sched_dep_time', 'dep_delay', 'arr_time',\n",
       "       'sched_arr_time', 'arr_delay', 'origin', 'dest', 'air_time', 'distance',\n",
       "       'name'],\n",
       "      dtype='object')"
      ]
     },
     "execution_count": 21,
     "metadata": {},
     "output_type": "execute_result"
    }
   ],
   "source": [
    "df.columns"
   ]
  },
  {
   "cell_type": "markdown",
   "id": "b1bdd63a",
   "metadata": {},
   "source": [
    "# Missing Value\n",
    "What is Missing value?? <br>\n",
    "Ans - Missing values can disrupt many machine learning algorithms. It's crucial to handle these appropriately\n",
    "How To handel missing values? <br>\n",
    "Ans -  \n",
    "* Drop the rows or columns with missing data, especially if the percentage of missing data is very high.\n",
    "* Fill the missing data with a central tendency measure (mean, median, or mode).\n",
    "* Predict the missing values using a machine learning algorithm like KNN.\n",
    "* Use algorithms that can handle missing values."
   ]
  },
  {
   "cell_type": "code",
   "execution_count": 22,
   "id": "74e0a8f9",
   "metadata": {},
   "outputs": [
    {
     "data": {
      "text/plain": [
       "arr_delay         2.800081\n",
       "air_time          2.800081\n",
       "arr_time          2.587180\n",
       "dep_time          2.451184\n",
       "dep_delay         2.451184\n",
       "month             0.000000\n",
       "day               0.000000\n",
       "sched_dep_time    0.000000\n",
       "sched_arr_time    0.000000\n",
       "origin            0.000000\n",
       "dest              0.000000\n",
       "distance          0.000000\n",
       "name              0.000000\n",
       "dtype: float64"
      ]
     },
     "execution_count": 22,
     "metadata": {},
     "output_type": "execute_result"
    }
   ],
   "source": [
    "missing_per = df.isnull().mean().sort_values(ascending=False) * 100\n",
    "missing_per"
   ]
  },
  {
   "cell_type": "code",
   "execution_count": 23,
   "id": "2b3753af",
   "metadata": {},
   "outputs": [],
   "source": [
    "df.dropna(subset=['arr_delay'], inplace=True)\n",
    "df.reset_index(drop=True, inplace=True) #dropping rows with missing target values (arr_delay) to avoid introducing bias into our model"
   ]
  },
  {
   "cell_type": "code",
   "execution_count": 24,
   "id": "be948b93",
   "metadata": {},
   "outputs": [],
   "source": [
    "from sklearn.impute import KNNImputer"
   ]
  },
  {
   "cell_type": "code",
   "execution_count": 25,
   "id": "5cb41d7d",
   "metadata": {},
   "outputs": [
    {
     "data": {
      "text/plain": [
       "0"
      ]
     },
     "execution_count": 25,
     "metadata": {},
     "output_type": "execute_result"
    }
   ],
   "source": [
    "#using a K-Nearest Neighbors (KNN) imputer to fill in missing values in other columns.\n",
    "# Separate features and target\n",
    "X = df.drop(columns=['arr_delay'])\n",
    "y = df['arr_delay']\n",
    "\n",
    "# Initialize the imputer\n",
    "imputer = KNNImputer(n_neighbors=5)\n",
    "\n",
    "# Apply the imputer\n",
    "columns_to_impute = ['dep_time', 'dep_delay', 'arr_time', 'air_time']\n",
    "X[columns_to_impute] = imputer.fit_transform(X[columns_to_impute])\n",
    "\n",
    "# Check missing values again\n",
    "X.isnull().sum().sum()"
   ]
  },
  {
   "cell_type": "markdown",
   "id": "d4331095",
   "metadata": {},
   "source": [
    "# Outlier Treatment\n",
    "What are outliers?? <br>\n",
    "Outliers are values that stand out from the rest because they're very different. They can sometimes cause problems, especially when we're doing something like regression, where outliers can have a big impact."
   ]
  },
  {
   "cell_type": "markdown",
   "id": "33bf5579",
   "metadata": {},
   "source": [
    "# Features Encoding"
   ]
  },
  {
   "cell_type": "code",
   "execution_count": 26,
   "id": "50acbbde",
   "metadata": {},
   "outputs": [
    {
     "data": {
      "text/plain": [
       "origin      3\n",
       "dest      104\n",
       "name       16\n",
       "dtype: int64"
      ]
     },
     "execution_count": 26,
     "metadata": {},
     "output_type": "execute_result"
    }
   ],
   "source": [
    "# Identify categorical columns\n",
    "cat_columns = X.select_dtypes(include=['object']).columns\n",
    "\n",
    "# Check the number of unique categories in each categorical feature\n",
    "X[cat_columns].nunique()"
   ]
  },
  {
   "cell_type": "code",
   "execution_count": 27,
   "id": "1bc82243",
   "metadata": {},
   "outputs": [
    {
     "name": "stdout",
     "output_type": "stream",
     "text": [
      "\n",
      "Distribution of categories in origin:\n",
      "EWR    117127\n",
      "JFK    109079\n",
      "LGA    101140\n",
      "Name: origin, dtype: int64\n",
      "\n",
      "Distribution of categories in dest:\n",
      "ATL    16837\n",
      "ORD    16566\n",
      "LAX    16026\n",
      "BOS    15022\n",
      "MCO    13967\n",
      "       ...  \n",
      "HDN       14\n",
      "MTJ       14\n",
      "SBN       10\n",
      "ANC        8\n",
      "LEX        1\n",
      "Name: dest, Length: 104, dtype: int64\n",
      "\n",
      "Distribution of categories in name:\n",
      "United Air Lines Inc.          57782\n",
      "JetBlue Airways                54049\n",
      "ExpressJet Airlines Inc.       51108\n",
      "Delta Air Lines Inc.           47658\n",
      "American Airlines Inc.         31947\n",
      "Envoy Air                      25037\n",
      "US Airways Inc.                19831\n",
      "Endeavor Air Inc.              17294\n",
      "Southwest Airlines Co.         12044\n",
      "Virgin America                  5116\n",
      "AirTran Airways Corporation     3175\n",
      "Alaska Airlines Inc.             709\n",
      "Frontier Airlines Inc.           681\n",
      "Mesa Airlines Inc.               544\n",
      "Hawaiian Airlines Inc.           342\n",
      "SkyWest Airlines Inc.             29\n",
      "Name: name, dtype: int64\n"
     ]
    }
   ],
   "source": [
    "# Check the distribution of categories within each feature\n",
    "for col in cat_columns:\n",
    "    print(f\"\\nDistribution of categories in {col}:\")\n",
    "    print(X[col].value_counts())"
   ]
  },
  {
   "cell_type": "markdown",
   "id": "68f1d8c1",
   "metadata": {},
   "source": [
    "# One-hot Encoding"
   ]
  },
  {
   "cell_type": "code",
   "execution_count": 28,
   "id": "c7b5428f",
   "metadata": {},
   "outputs": [
    {
     "data": {
      "text/html": [
       "<div>\n",
       "<style scoped>\n",
       "    .dataframe tbody tr th:only-of-type {\n",
       "        vertical-align: middle;\n",
       "    }\n",
       "\n",
       "    .dataframe tbody tr th {\n",
       "        vertical-align: top;\n",
       "    }\n",
       "\n",
       "    .dataframe thead th {\n",
       "        text-align: right;\n",
       "    }\n",
       "</style>\n",
       "<table border=\"1\" class=\"dataframe\">\n",
       "  <thead>\n",
       "    <tr style=\"text-align: right;\">\n",
       "      <th></th>\n",
       "      <th>month</th>\n",
       "      <th>day</th>\n",
       "      <th>dep_time</th>\n",
       "      <th>sched_dep_time</th>\n",
       "      <th>dep_delay</th>\n",
       "      <th>arr_time</th>\n",
       "      <th>sched_arr_time</th>\n",
       "      <th>dest</th>\n",
       "      <th>air_time</th>\n",
       "      <th>distance</th>\n",
       "      <th>...</th>\n",
       "      <th>name_ExpressJet Airlines Inc.</th>\n",
       "      <th>name_Frontier Airlines Inc.</th>\n",
       "      <th>name_Hawaiian Airlines Inc.</th>\n",
       "      <th>name_JetBlue Airways</th>\n",
       "      <th>name_Mesa Airlines Inc.</th>\n",
       "      <th>name_SkyWest Airlines Inc.</th>\n",
       "      <th>name_Southwest Airlines Co.</th>\n",
       "      <th>name_US Airways Inc.</th>\n",
       "      <th>name_United Air Lines Inc.</th>\n",
       "      <th>name_Virgin America</th>\n",
       "    </tr>\n",
       "  </thead>\n",
       "  <tbody>\n",
       "    <tr>\n",
       "      <th>0</th>\n",
       "      <td>1</td>\n",
       "      <td>1</td>\n",
       "      <td>517.0</td>\n",
       "      <td>515</td>\n",
       "      <td>2.0</td>\n",
       "      <td>830.0</td>\n",
       "      <td>819</td>\n",
       "      <td>0.021644</td>\n",
       "      <td>227.0</td>\n",
       "      <td>1400</td>\n",
       "      <td>...</td>\n",
       "      <td>0</td>\n",
       "      <td>0</td>\n",
       "      <td>0</td>\n",
       "      <td>0</td>\n",
       "      <td>0</td>\n",
       "      <td>0</td>\n",
       "      <td>0</td>\n",
       "      <td>0</td>\n",
       "      <td>1</td>\n",
       "      <td>0</td>\n",
       "    </tr>\n",
       "    <tr>\n",
       "      <th>1</th>\n",
       "      <td>1</td>\n",
       "      <td>1</td>\n",
       "      <td>533.0</td>\n",
       "      <td>529</td>\n",
       "      <td>4.0</td>\n",
       "      <td>850.0</td>\n",
       "      <td>830</td>\n",
       "      <td>0.021644</td>\n",
       "      <td>227.0</td>\n",
       "      <td>1416</td>\n",
       "      <td>...</td>\n",
       "      <td>0</td>\n",
       "      <td>0</td>\n",
       "      <td>0</td>\n",
       "      <td>0</td>\n",
       "      <td>0</td>\n",
       "      <td>0</td>\n",
       "      <td>0</td>\n",
       "      <td>0</td>\n",
       "      <td>1</td>\n",
       "      <td>0</td>\n",
       "    </tr>\n",
       "    <tr>\n",
       "      <th>2</th>\n",
       "      <td>1</td>\n",
       "      <td>1</td>\n",
       "      <td>542.0</td>\n",
       "      <td>540</td>\n",
       "      <td>2.0</td>\n",
       "      <td>923.0</td>\n",
       "      <td>850</td>\n",
       "      <td>0.035415</td>\n",
       "      <td>160.0</td>\n",
       "      <td>1089</td>\n",
       "      <td>...</td>\n",
       "      <td>0</td>\n",
       "      <td>0</td>\n",
       "      <td>0</td>\n",
       "      <td>0</td>\n",
       "      <td>0</td>\n",
       "      <td>0</td>\n",
       "      <td>0</td>\n",
       "      <td>0</td>\n",
       "      <td>0</td>\n",
       "      <td>0</td>\n",
       "    </tr>\n",
       "    <tr>\n",
       "      <th>3</th>\n",
       "      <td>1</td>\n",
       "      <td>1</td>\n",
       "      <td>544.0</td>\n",
       "      <td>545</td>\n",
       "      <td>-1.0</td>\n",
       "      <td>1004.0</td>\n",
       "      <td>1022</td>\n",
       "      <td>0.002713</td>\n",
       "      <td>183.0</td>\n",
       "      <td>1576</td>\n",
       "      <td>...</td>\n",
       "      <td>0</td>\n",
       "      <td>0</td>\n",
       "      <td>0</td>\n",
       "      <td>1</td>\n",
       "      <td>0</td>\n",
       "      <td>0</td>\n",
       "      <td>0</td>\n",
       "      <td>0</td>\n",
       "      <td>0</td>\n",
       "      <td>0</td>\n",
       "    </tr>\n",
       "    <tr>\n",
       "      <th>4</th>\n",
       "      <td>1</td>\n",
       "      <td>1</td>\n",
       "      <td>554.0</td>\n",
       "      <td>600</td>\n",
       "      <td>-6.0</td>\n",
       "      <td>812.0</td>\n",
       "      <td>837</td>\n",
       "      <td>0.051435</td>\n",
       "      <td>116.0</td>\n",
       "      <td>762</td>\n",
       "      <td>...</td>\n",
       "      <td>0</td>\n",
       "      <td>0</td>\n",
       "      <td>0</td>\n",
       "      <td>0</td>\n",
       "      <td>0</td>\n",
       "      <td>0</td>\n",
       "      <td>0</td>\n",
       "      <td>0</td>\n",
       "      <td>0</td>\n",
       "      <td>0</td>\n",
       "    </tr>\n",
       "  </tbody>\n",
       "</table>\n",
       "<p>5 rows × 27 columns</p>\n",
       "</div>"
      ],
      "text/plain": [
       "   month  day  dep_time  sched_dep_time  dep_delay  arr_time  sched_arr_time  \\\n",
       "0      1    1     517.0             515        2.0     830.0             819   \n",
       "1      1    1     533.0             529        4.0     850.0             830   \n",
       "2      1    1     542.0             540        2.0     923.0             850   \n",
       "3      1    1     544.0             545       -1.0    1004.0            1022   \n",
       "4      1    1     554.0             600       -6.0     812.0             837   \n",
       "\n",
       "       dest  air_time  distance  ...  name_ExpressJet Airlines Inc.  \\\n",
       "0  0.021644     227.0      1400  ...                              0   \n",
       "1  0.021644     227.0      1416  ...                              0   \n",
       "2  0.035415     160.0      1089  ...                              0   \n",
       "3  0.002713     183.0      1576  ...                              0   \n",
       "4  0.051435     116.0       762  ...                              0   \n",
       "\n",
       "   name_Frontier Airlines Inc.  name_Hawaiian Airlines Inc.  \\\n",
       "0                            0                            0   \n",
       "1                            0                            0   \n",
       "2                            0                            0   \n",
       "3                            0                            0   \n",
       "4                            0                            0   \n",
       "\n",
       "   name_JetBlue Airways  name_Mesa Airlines Inc.  name_SkyWest Airlines Inc.  \\\n",
       "0                     0                        0                           0   \n",
       "1                     0                        0                           0   \n",
       "2                     0                        0                           0   \n",
       "3                     1                        0                           0   \n",
       "4                     0                        0                           0   \n",
       "\n",
       "   name_Southwest Airlines Co.  name_US Airways Inc.  \\\n",
       "0                            0                     0   \n",
       "1                            0                     0   \n",
       "2                            0                     0   \n",
       "3                            0                     0   \n",
       "4                            0                     0   \n",
       "\n",
       "   name_United Air Lines Inc.  name_Virgin America  \n",
       "0                           1                    0  \n",
       "1                           1                    0  \n",
       "2                           0                    0  \n",
       "3                           0                    0  \n",
       "4                           0                    0  \n",
       "\n",
       "[5 rows x 27 columns]"
      ]
     },
     "execution_count": 28,
     "metadata": {},
     "output_type": "execute_result"
    }
   ],
   "source": [
    "# Create a copy of the dataset for encoding\n",
    "X_encoded = X.copy()\n",
    "\n",
    "# Apply one-hot encoding to 'carrier', 'origin', and 'name'\n",
    "X_encoded = pd.get_dummies(X_encoded, columns=['origin', 'name'], drop_first=True)\n",
    "\n",
    "# Apply frequency encoding to 'dest'\n",
    "dest_freq = X_encoded['dest'].value_counts() / len(X_encoded)  # calculate the frequencies\n",
    "X_encoded['dest'] = X_encoded['dest'].map(dest_freq)  # map frequencies to the feature\n",
    "\n",
    "# Show the result\n",
    "X_encoded.head()"
   ]
  },
  {
   "cell_type": "code",
   "execution_count": null,
   "id": "8b35760c",
   "metadata": {},
   "outputs": [],
   "source": []
  }
 ],
 "metadata": {
  "kernelspec": {
   "display_name": "Python 3 (ipykernel)",
   "language": "python",
   "name": "python3"
  },
  "language_info": {
   "codemirror_mode": {
    "name": "ipython",
    "version": 3
   },
   "file_extension": ".py",
   "mimetype": "text/x-python",
   "name": "python",
   "nbconvert_exporter": "python",
   "pygments_lexer": "ipython3",
   "version": "3.9.12"
  }
 },
 "nbformat": 4,
 "nbformat_minor": 5
}
